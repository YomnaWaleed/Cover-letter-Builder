{
 "cells": [
  {
   "cell_type": "markdown",
   "id": "d2b3066f",
   "metadata": {},
   "source": [
    "Featch API key"
   ]
  },
  {
   "cell_type": "code",
   "execution_count": 1,
   "id": "29e2b403",
   "metadata": {},
   "outputs": [],
   "source": [
    "import os\n",
    "from dotenv import load_dotenv\n",
    "from groq import Groq"
   ]
  },
  {
   "cell_type": "code",
   "execution_count": 2,
   "id": "fc241684",
   "metadata": {},
   "outputs": [],
   "source": [
    "load_dotenv()  \n",
    "GROQ_API_KEY = os.getenv(\"GROQ_API_KEY\")\n",
    "if not GROQ_API_KEY:\n",
    "    raise ValueError(\"GROQ_API_KEY not found in .env file!\")\n",
    "\n",
    "client = Groq(api_key=GROQ_API_KEY)"
   ]
  },
  {
   "cell_type": "markdown",
   "id": "167526be",
   "metadata": {},
   "source": [
    "Generate a cover letter using llama-3.1-8b-instant"
   ]
  },
  {
   "cell_type": "code",
   "execution_count": 26,
   "id": "5565c11f",
   "metadata": {},
   "outputs": [],
   "source": [
    "import json\n",
    "import re"
   ]
  },
  {
   "cell_type": "markdown",
   "id": "436e6afe",
   "metadata": {},
   "source": [
    "## Huge Prompt "
   ]
  },
  {
   "cell_type": "code",
   "execution_count": 55,
   "id": "f89a624c",
   "metadata": {},
   "outputs": [],
   "source": [
    "def generate_cover_letter_parts(user_job_json: dict) -> dict:\n",
    "\n",
    "    user = user_job_json[\"user\"]\n",
    "    job = user_job_json[\"job\"]\n",
    "    #print(\"user \", user)\n",
    "    #print(\"job \", job)\n",
    "\n",
    "    prompt = f\"\"\"\n",
    "You are an expert cover letter writer. Based on the following structured user and job information in JSON format, generate three professional and engaging paragraphs of a cover letter: Opening, Body, and Closing.\n",
    "\n",
    "1. **Opening Paragraph**:\n",
    "   In the opening paragraph tell how you learned about the position. You may, for example, know of a job through: Qaddemly website\n",
    "\n",
    "\n",
    "2. **Body Paragraph**:\n",
    "\n",
    "    This paragraph gives a summary of your background and critical skills (hard skills) that make you qualified for the position.\n",
    "    This paragraph can be used to demonstrate your persuasive skills (soft skills).\n",
    "\n",
    "3. **Closing Paragraph**:\n",
    "   At the end of the letter talk about your availability for the job, where you can be contacted, and when you are going to contact the hiring person for an appointment to discuss your application. If you have no contact name you may simply want to indicate your anticipation for a response in this part of the letter. Thank the person to whom you are writing for his/her time and consideration of your application.\n",
    "\n",
    "**User information:**\n",
    "{user}\n",
    "\n",
    "**Job information:**\n",
    "{job}\n",
    "\"\"\"\n",
    "\n",
    "    response = client.chat.completions.create(\n",
    "        model=\"llama-3.1-8b-instant\",\n",
    "        messages=[{\"role\": \"user\", \"content\": prompt}],\n",
    "        temperature=0.6,\n",
    "        max_tokens=600,\n",
    "    )\n",
    "\n",
    "    content = response.choices[0].message.content.strip()\n",
    "    content = re.sub(r\"\\*\\*.*?Paragraph:\\*\\*\", \"\", content, flags=re.IGNORECASE).strip()\n",
    "    paragraphs = [p.strip() for p in content.split(\"\\n\\n\") if p.strip()]\n",
    "\n",
    "    # Concatenate the paragraphs with newlines between them\n",
    "    merged_content = \"\\n\\n\".join(paragraphs)\n",
    "\n",
    "    return {\"merged_cover_letter\": merged_content}\n"
   ]
  },
  {
   "cell_type": "code",
   "execution_count": 57,
   "id": "a10ff854",
   "metadata": {},
   "outputs": [
    {
     "name": "stdout",
     "output_type": "stream",
     "text": [
      "I am writing to express my enthusiastic interest in the Digital Marketing Specialist position at Vodafone Haha, as advertised on Qaddemly. With a strong background in computer science and experience in various roles, I am confident that my unique blend of skills and passion for innovation make me an ideal candidate for this exciting opportunity. I am particularly drawn to Vodafone Haha's commitment to excellence and its reputation for pushing the boundaries of digital marketing.\n",
      "\n",
      "As a highly motivated and experienced professional, I possess a strong foundation in computer science, with a degree in Computer Science from Cairo University. My skills in JavaScript, React, and Node.js have enabled me to excel in various roles, including Frontend and Backend Development positions at Tech Solutions Inc. and Innovate Tech, respectively. I am confident that my technical expertise, combined with my passion for digital marketing, make me an excellent fit for this position. I am excited about the prospect of applying my skills to drive brand awareness and engagement through social media platforms, content creation, and analytics.\n",
      "\n",
      "Thank you for considering my application for the Digital Marketing Specialist position at Vodafone Haha. I would be delighted to discuss my qualifications further and learn more about your team's work. Please feel free to contact me at abdotest@mailsac.com or through my LinkedIn profile. I look forward to the opportunity to meet with you and explore how my skills and experience can contribute to the success of Vodafone Haha. I am available to start immediately and am eager to learn more about your team's work. Thank you again for your time and consideration.\n",
      "\n",
      "Note: I assumed that the CEO of Vodafone Haha is Abdo Khattab based on the job information provided. If that's not the case, please let me know and I'll adjust the letter accordingly.\n"
     ]
    }
   ],
   "source": [
    "# Example Usage:\n",
    "import json\n",
    "\n",
    "with open(\"data/test.json\", \"r\") as f:\n",
    "    user_job_json = json.load(f)\n",
    "\n",
    "result = generate_cover_letter_parts(user_job_json)\n",
    "print(result['merged_cover_letter'])"
   ]
  },
  {
   "cell_type": "markdown",
   "id": "d7ec84f3",
   "metadata": {},
   "source": [
    "['Here are three professional and engaging paragraphs for a cover letter:', '**Opening Paragraph**', 'I am writing to express my interest in the Digital Marketing Specialist position at Vodafone Haha, which I came across on Qaddemly website. As a highly motivated and experienced professional in the field of digital marketing, I am confident that I would be a valuable asset to your team. I am excited about the opportunity to contribute my skills and expertise to help drive brand awareness and engagement for your organization.', '**Body Paragraph**', 'With over 3 years of experience in the tech industry, including roles as a Frontend Developer at Tech Solutions Inc. and a Backend Developer at Innovate Tech, I possess a unique blend of technical and creative skills that would be highly beneficial in this position. My proficiency in JavaScript, React, and Node.js has equipped me with a solid understanding of web development principles, which I believe would be an asset in creating engaging content and analyzing social media metrics. Moreover, my experience working with various social media platforms has given me a deep understanding of community engagement and the importance of creating content that resonates with diverse audiences.', '**Closing Paragraph**', 'I am excited about the opportunity to discuss my application and how I can contribute to the success of Vodafone Haha as a Digital Marketing Specialist. I am available for an interview at your earliest convenience and can be reached at abdotest@mailsac.com or via phone at [insert phone number]. I would like to thank you for considering my application and look forward to the opportunity to discuss this position further. I am confident that my skills, experience, and passion for digital marketing make me an ideal candidate for this role, and I am eager to learn more about the position and how I can contribute to the team.']"
   ]
  },
  {
   "cell_type": "markdown",
   "id": "e07388e2",
   "metadata": {},
   "source": [
    "## after merging the paragraphs\n",
    "\n",
    "I am writing to express my enthusiastic interest in the Digital Marketing Specialist position at Vodafone Haha, as advertised on Qaddemly. With a strong background in computer science and experience in various roles, I am confident that my unique blend of skills and passion for innovation make me an ideal candidate for this exciting opportunity. I am particularly drawn to Vodafone Haha's commitment to excellence and its reputation for pushing the boundaries of digital marketing.\n",
    "\n",
    "As a highly motivated and experienced professional, I possess a strong foundation in computer science, with a degree in Computer Science from Cairo University. My skills in JavaScript, React, and Node.js have enabled me to excel in various roles, including Frontend and Backend Development positions at Tech Solutions Inc. and Innovate Tech, respectively. I am confident that my technical expertise, combined with my passion for digital marketing, make me an excellent fit for this position. I am excited about the prospect of applying my skills to drive brand awareness and engagement through social media platforms, content creation, and analytics.\n",
    "\n",
    "Thank you for considering my application for the Digital Marketing Specialist position at Vodafone Haha. I would be delighted to discuss my qualifications further and learn more about your team's work. Please feel free to contact me at abdotest@mailsac.com or through my LinkedIn profile. I look forward to the opportunity to meet with you and explore how my skills and experience can contribute to the success of Vodafone Haha. I am available to start immediately and am eager to learn more about your team's work. Thank you again for your time and consideration.\n",
    "\n",
    "Note: I assumed that the CEO of Vodafone Haha is Abdo Khattab based on the job information provided. If that's not the case, please let me know and I'll adjust the letter accordingly."
   ]
  },
  {
   "cell_type": "markdown",
   "id": "a181ebe6",
   "metadata": {},
   "source": [
    "## simple Prompt "
   ]
  },
  {
   "cell_type": "code",
   "execution_count": 33,
   "id": "65c0de6b",
   "metadata": {},
   "outputs": [],
   "source": [
    "def generate_cover_letter_parts(user_job_json: dict) -> dict:\n",
    "\n",
    "    user = user_job_json[\"user\"]\n",
    "    job = user_job_json[\"job\"]\n",
    "    business = job.get(\"business\", {})\n",
    "\n",
    "    prompt = f\"\"\"\n",
    "You are an expert cover letter writer. Based on the following structured user and job information in JSON format, generate three professional and engaging paragraphs of a cover letter: Opening, Body, and Closing.\n",
    "\n",
    "Only return the paragraphs. Do not label them with headings like 'Opening Paragraph', 'Body Paragraph', or 'Closing Paragraph'. Just provide each paragraph with a line break in between.\n",
    "\n",
    "**User infomation:**\n",
    "{user}\n",
    "\n",
    "**Job information:**\n",
    "{job}\n",
    "\"\"\"\n",
    "\n",
    "    response = client.chat.completions.create(\n",
    "        model=\"llama-3.1-8b-instant\",\n",
    "        messages=[{\"role\": \"user\", \"content\": prompt}],\n",
    "        temperature=0.6,\n",
    "        max_tokens=600,\n",
    "    )\n",
    "\n",
    "    content = response.choices[0].message.content.strip()\n",
    "\n",
    "    # Remove headers if they exist, just in case model still includes them\n",
    "    content = re.sub(r\"\\*\\*.*?Paragraph:\\*\\*\", \"\", content, flags=re.IGNORECASE).strip()\n",
    "\n",
    "    # Split paragraphs\n",
    "    paragraphs = [p.strip() for p in content.split(\"\\n\\n\") if p.strip()]\n",
    "\n",
    "    return {\n",
    "        \"opening\": paragraphs[0] if len(paragraphs) > 0 else \"\",\n",
    "        \"body\": paragraphs[1] if len(paragraphs) > 1 else \"\",\n",
    "        \"closing\": paragraphs[2] if len(paragraphs) > 2 else \"\",\n",
    "    }\n",
    "\n"
   ]
  },
  {
   "cell_type": "code",
   "execution_count": 34,
   "id": "710934c4",
   "metadata": {},
   "outputs": [
    {
     "name": "stdout",
     "output_type": "stream",
     "text": [
      "\n",
      " Dear Hiring Manager,\n",
      "\n",
      "\n",
      " I am excited to apply for the Digital Marketing Specialist position at Vodafone Haha, as advertised. With my background in Computer Science and experience in various technical roles, I am confident that I can bring a unique perspective to this position and contribute to the company's success. Specifically, my skills in JavaScript, React, and Node.js have allowed me to develop a strong understanding of the digital landscape, and I am eager to apply this knowledge in a marketing context.\n",
      "\n",
      "\n",
      " As a skilled developer, I have a proven track record of creating engaging content and interacting with online communities. In my current role as Backend Developer at Innovate Tech, I have developed a strong understanding of social media analytics and insights, which I believe would be highly valuable in this position. Additionally, my experience working with various social media platforms has given me a deep understanding of their capabilities and limitations, and I am confident that I can leverage this knowledge to drive brand awareness and engagement for Vodafone Haha.\n"
     ]
    }
   ],
   "source": [
    "# Example Usage:\n",
    "import json\n",
    "\n",
    "with open(\"data/test.json\", \"r\") as f:\n",
    "    user_job_json = json.load(f)\n",
    "\n",
    "result = generate_cover_letter_parts(user_job_json)\n",
    "\n",
    "print(\"\\n\", result[\"opening\"])\n",
    "print(\"\\n\\n\", result[\"body\"])\n",
    "print(\"\\n\\n\", result[\"closing\"])"
   ]
  },
  {
   "cell_type": "markdown",
   "id": "0512450b",
   "metadata": {},
   "source": [
    "Dear Hiring Manager,\n",
    "\n",
    "\n",
    " I am excited to apply for the Digital Marketing Specialist position at Vodafone Haha, as advertised. With my background in Computer Science and experience in various technical roles, I am confident that I can bring a unique perspective to this position and contribute to the company's success. Specifically, my skills in JavaScript, React, and Node.js have allowed me to develop a strong understanding of the digital landscape, and I am eager to apply this knowledge in a marketing context.\n",
    "\n",
    "\n",
    " As a skilled developer, I have a proven track record of creating engaging content and interacting with online communities. In my current role as Backend Developer at Innovate Tech, I have developed a strong understanding of social media analytics and insights, which I believe would be highly valuable in this position. Additionally, my experience working with various social media platforms has given me a deep understanding of their capabilities and limitations, and I am confident that I can leverage this knowledge to drive brand awareness and engagement for Vodafone Haha."
   ]
  },
  {
   "cell_type": "code",
   "execution_count": null,
   "id": "49216b07",
   "metadata": {},
   "outputs": [],
   "source": []
  }
 ],
 "metadata": {
  "kernelspec": {
   "display_name": "CoverLetter",
   "language": "python",
   "name": "python3"
  },
  "language_info": {
   "codemirror_mode": {
    "name": "ipython",
    "version": 3
   },
   "file_extension": ".py",
   "mimetype": "text/x-python",
   "name": "python",
   "nbconvert_exporter": "python",
   "pygments_lexer": "ipython3",
   "version": "3.8.20"
  }
 },
 "nbformat": 4,
 "nbformat_minor": 5
}
